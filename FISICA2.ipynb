{
  "nbformat": 4,
  "nbformat_minor": 0,
  "metadata": {
    "colab": {
      "provenance": [],
      "authorship_tag": "ABX9TyMvZCxUfAHlW2OH5aLmodl6",
      "include_colab_link": true
    },
    "kernelspec": {
      "name": "python3",
      "display_name": "Python 3"
    },
    "language_info": {
      "name": "python"
    }
  },
  "cells": [
    {
      "cell_type": "markdown",
      "metadata": {
        "id": "view-in-github",
        "colab_type": "text"
      },
      "source": [
        "<a href=\"https://colab.research.google.com/github/gmiserani/fisica-computacional/blob/main/FISICA2.ipynb\" target=\"_parent\"><img src=\"https://colab.research.google.com/assets/colab-badge.svg\" alt=\"Open In Colab\"/></a>"
      ]
    },
    {
      "cell_type": "markdown",
      "source": [
        "# gerador numérico linear congruencial\n",
        "\n",
        "https://pt.stackoverflow.com/questions/504317/como-criar-um-bom-gcl-para-fazer-fun%C3%A7%C3%A3o-random"
      ],
      "metadata": {
        "id": "DMElyo7Ab69Y"
      }
    },
    {
      "cell_type": "code",
      "source": [
        "def linearCongruentialMethod(init_value, m, a, c, size):\n",
        "    array = []\n",
        "    xm = init_value\n",
        "    array.append(init_value)\n",
        " \n",
        "    for i in range(1, size):\n",
        "      xm1 = ((xm * a) + c) % m\n",
        "      array.append(xm1)\n",
        "      xm = xm1\n",
        "    return array\n",
        "\n",
        "array1 = linearCongruentialMethod(1, 2**7, 5, 0, 100000)\n",
        " "
      ],
      "metadata": {
        "id": "ysi9SDNOcD9b"
      },
      "execution_count": 6,
      "outputs": []
    },
    {
      "cell_type": "code",
      "source": [
        "array2 = linearCongruentialMethod(3141549, 2**31 - 1, 16807, 0, 100000)"
      ],
      "metadata": {
        "id": "gtwG4mnQ6TAD"
      },
      "execution_count": 5,
      "outputs": []
    },
    {
      "cell_type": "code",
      "source": [
        "import matplotlib.pyplot as plt\n",
        "\n",
        "#plt.hist(array2, edgecolor=\"k\")\n",
        "plt.hist(array1, edgecolor=\"k\")"
      ],
      "metadata": {
        "colab": {
          "base_uri": "https://localhost:8080/",
          "height": 350
        },
        "id": "eCTajUn57Ce9",
        "outputId": "1fc2c1eb-94dc-41ac-cea0-8fcf89bab254"
      },
      "execution_count": 12,
      "outputs": [
        {
          "output_type": "execute_result",
          "data": {
            "text/plain": [
              "(array([12500.,  9375.,  9375.,  9375.,  9375.,  9375.,  9375.,  9375.,\n",
              "         9375., 12500.]),\n",
              " array([  1. ,  13.4,  25.8,  38.2,  50.6,  63. ,  75.4,  87.8, 100.2,\n",
              "        112.6, 125. ]),\n",
              " <BarContainer object of 10 artists>)"
            ]
          },
          "metadata": {},
          "execution_count": 12
        },
        {
          "output_type": "display_data",
          "data": {
            "text/plain": [
              "<Figure size 432x288 with 1 Axes>"
            ],
            "image/png": "[encoded data removed]"
          },
          "metadata": {
            "needs_background": "light"
          }
        }
      ]
    },
    {
      "cell_type": "markdown",
      "source": [
        "# mapa logístico"
      ],
      "metadata": {
        "id": "X6qn-GDBgc2y"
      }
    },
    {
      "cell_type": "code",
      "source": [
        "def mapalogistico(init_value, r, size):\n",
        "    array = []\n",
        "    xm = init_value\n",
        "    array.append(init_value)\n",
        " \n",
        "    for i in range(1, size):\n",
        "      xm1 = r*xm*(1-xm)\n",
        "      array.append(xm1)\n",
        "      xm = xm1\n",
        "    return array\n",
        "\n",
        "x = mapalogistico(0.46, 3.997, 100)\n",
        "x"
      ],
      "metadata": {
        "id": "NNZ_9on3gjPm",
        "colab": {
          "base_uri": "https://localhost:8080/"
        },
        "outputId": "30dfd935-6975-4675-af44-f39130a33de1"
      },
      "execution_count": 21,
      "outputs": [
        {
          "output_type": "execute_result",
          "data": {
            "text/plain": [
              "[0.46,\n",
              " 0.9928548,\n",
              " 0.028355302029488973,\n",
              " 0.11012246166859281,\n",
              " 0.3916880339032545,\n",
              " 0.9523592664470291,\n",
              " 0.18134826295584455,\n",
              " 0.5933988987035334,\n",
              " 0.9643827529467055,\n",
              " 0.1372915890862594,\n",
              " 0.47341510678375914,\n",
              " 0.9964250940803663,\n",
              " 0.01423781749129605,\n",
              " 0.056098302871389234,\n",
              " 0.21164627929549742,\n",
              " 0.6669079706282113,\n",
              " 0.8879004921750663,\n",
              " 0.39783423305685434,\n",
              " 0.9575299377914808,\n",
              " 0.16254342503002137,\n",
              " 0.5440838708580961,\n",
              " 0.9914822794836764,\n",
              " 0.03375534030725701,\n",
              " 0.13036582148006912,\n",
              " 0.45314218455737376,\n",
              " 0.9904739674923831,\n",
              " 0.03771284298748588,\n",
              " 0.1450534660917646,\n",
              " 0.49567979339192,\n",
              " 0.9991753992520095,\n",
              " 0.003293211364042909,\n",
              " 0.013119617393449726,\n",
              " 0.05175112965249817,\n",
              " 0.19614458207805743,\n",
              " 0.630214524342928,\n",
              " 0.9314775780676295,\n",
              " 0.25511691720069596,\n",
              " 0.7595590062075607,\n",
              " 0.7299686018192842,\n",
              " 0.7878664253826022,\n",
              " 0.6680302857863586,\n",
              " 0.8863979947650429,\n",
              " 0.4024842687972909,\n",
              " 0.9612412566254999,\n",
              " 0.14891424323655952,\n",
              " 0.5065749492171757,\n",
              " 0.9990772098610378,\n",
              " 0.00368498857349472,\n",
              " 0.01467462350253361,\n",
              " 0.057793737873587214,\n",
              " 0.21765112607953666,\n",
              " 0.6806056162431976,\n",
              " 0.8688743006915151,\n",
              " 0.45538520590651493,\n",
              " 0.9912940520315399,\n",
              " 0.03449472729040712,\n",
              " 0.13311944979503154,\n",
              " 0.46124845153955457,\n",
              " 0.9932477750151952,\n",
              " 0.0268064098729097,\n",
              " 0.10427304157175316,\n",
              " 0.37332049696939495,\n",
              " 0.9351073571371399,\n",
              " 0.24254430629723822,\n",
              " 0.7343151134227787,\n",
              " 0.7798004212038164,\n",
              " 0.6863317620037852,\n",
              " 0.8604760564508533,\n",
              " 0.47986787986438784,\n",
              " 0.9976300068621646,\n",
              " 0.009450411952636843,\n",
              " 0.03741632336124952,\n",
              " 0.1439573194031816,\n",
              " 0.4925647375449475,\n",
              " 0.9990290333382812,\n",
              " 0.0038771854701861743,\n",
              " 0.015437025153354756,\n",
              " 0.06074929746085448,\n",
              " 0.22806410481451178,\n",
              " 0.7036753230319396,\n",
              " 0.8334399020629767,\n",
              " 0.5548548733537934,\n",
              " 0.9872227986487492,\n",
              " 0.05041793607409102,\n",
              " 0.1913602432810912,\n",
              " 0.6185017777882535,\n",
              " 0.9431214426581104,\n",
              " 0.2144126180652102,\n",
              " 0.6732540695766911,\n",
              " 0.879272160418335,\n",
              " 0.4242920554414402,\n",
              " 0.97634042360148,\n",
              " 0.09232990397012093,\n",
              " 0.33496895593354775,\n",
              " 0.8903907237138637,\n",
              " 0.3900875461041483,\n",
              " 0.9509632521569332,\n",
              " 0.18638868438055692,\n",
              " 0.6061368270336219,\n",
              " 0.9542236908670985]"
            ]
          },
          "metadata": {},
          "execution_count": 21
        }
      ]
    },
    {
      "cell_type": "code",
      "source": [
        "plt.hist(x, edgecolor=\"k\")"
      ],
      "metadata": {
        "colab": {
          "base_uri": "https://localhost:8080/",
          "height": 350
        },
        "id": "h2V_fqI8BE_D",
        "outputId": "7538d971-a9a9-41d7-96a3-e5301a0298c5"
      },
      "execution_count": 22,
      "outputs": [
        {
          "output_type": "execute_result",
          "data": {
            "text/plain": [
              "(array([20., 13.,  6.,  5., 10.,  4.,  8.,  6.,  7., 21.]),\n",
              " array([0.00329321, 0.10288143, 0.20246965, 0.30205787, 0.40164609,\n",
              "        0.50123431, 0.60082252, 0.70041074, 0.79999896, 0.89958718,\n",
              "        0.9991754 ]),\n",
              " <BarContainer object of 10 artists>)"
            ]
          },
          "metadata": {},
          "execution_count": 22
        },
        {
          "output_type": "display_data",
          "data": {
            "text/plain": [
              "<Figure size 432x288 with 1 Axes>"
            ],
            "image/png": "[encoded data removed]"
          },
          "metadata": {
            "needs_background": "light"
          }
        }
      ]
    },
    {
      "cell_type": "markdown",
      "source": [
        "# PCG94"
      ],
      "metadata": {
        "id": "lp6028zaC3Wr"
      }
    },
    {
      "cell_type": "code",
      "source": [
        "import numpy as np\n",
        "rng = np.random.default_rng(seed=42)\n",
        "r=rng.random(100000)\n",
        "r"
      ],
      "metadata": {
        "colab": {
          "base_uri": "https://localhost:8080/"
        },
        "id": "rr2Eq_SKBinH",
        "outputId": "b3e40ca1-3e14-495a-be0b-3d907eb5d3a3"
      },
      "execution_count": 24,
      "outputs": [
        {
          "output_type": "execute_result",
          "data": {
            "text/plain": [
              "array([0.77395605, 0.43887844, 0.85859792, ..., 0.56000412, 0.12102674,\n",
              "       0.93081934])"
            ]
          },
          "metadata": {},
          "execution_count": 24
        }
      ]
    },
    {
      "cell_type": "code",
      "source": [
        "plt.hist(r, edgecolor=\"k\")"
      ],
      "metadata": {
        "colab": {
          "base_uri": "https://localhost:8080/",
          "height": 367
        },
        "id": "or0XIOQuDuQ5",
        "outputId": "2f28d0d8-2b73-4cf4-e909-1e2b7f32354f"
      },
      "execution_count": 26,
      "outputs": [
        {
          "output_type": "execute_result",
          "data": {
            "text/plain": [
              "(array([10145.,  9834., 10045.,  9864.,  9994., 10038.,  9957., 10140.,\n",
              "         9952., 10031.]),\n",
              " array([2.37510228e-06, 1.00000054e-01, 1.99997734e-01, 2.99995413e-01,\n",
              "        3.99993093e-01, 4.99990772e-01, 5.99988451e-01, 6.99986131e-01,\n",
              "        7.99983810e-01, 8.99981490e-01, 9.99979169e-01]),\n",
              " <BarContainer object of 10 artists>)"
            ]
          },
          "metadata": {},
          "execution_count": 26
        },
        {
          "output_type": "display_data",
          "data": {
            "text/plain": [
              "<Figure size 432x288 with 1 Axes>"
            ],
            "image/png": "[encoded data removed]"
          },
          "metadata": {
            "needs_background": "light"
          }
        }
      ]
    },
    {
      "cell_type": "code",
      "source": [
        "from statsmodels.graphics import tsaplots"
      ],
      "metadata": {
        "id": "W5lI6tSfEL0-"
      },
      "execution_count": 30,
      "outputs": []
    },
    {
      "cell_type": "code",
      "source": [
        "tsaplots.plot_acf(r, lags=200,fft=False,zero=False,title='Autocorrelação')"
      ],
      "metadata": {
        "colab": {
          "base_uri": "https://localhost:8080/",
          "height": 545
        },
        "id": "2mMi68SwEmsO",
        "outputId": "9a26eae9-20fd-42fd-e19a-cd5f9e3c9ce1"
      },
      "execution_count": 31,
      "outputs": [
        {
          "output_type": "execute_result",
          "data": {
            "text/plain": [
              "<Figure size 432x288 with 1 Axes>"
            ],
            "image/png": "[encoded data removed]"
          },
          "metadata": {},
          "execution_count": 31
        },
        {
          "output_type": "display_data",
          "data": {
            "text/plain": [
              "<Figure size 432x288 with 1 Axes>"
            ],
            "image/png": "[encoded data removed]"
          },
          "metadata": {
            "needs_background": "light"
          }
        }
      ]
    },
    {
      "cell_type": "markdown",
      "source": [
        "# MT19932"
      ],
      "metadata": {
        "id": "iQhYw71xC8Oo"
      }
    },
    {
      "cell_type": "code",
      "source": [
        "sg = np.random.SeedSequence(1234)\n",
        "bg = np.random.MT19937(sg)\n",
        "rg = np.random.Generator(bg)\n",
        "r1=rg.random(100000)\n",
        "r1"
      ],
      "metadata": {
        "colab": {
          "base_uri": "https://localhost:8080/"
        },
        "id": "7VBA7GufC7BZ",
        "outputId": "1f7868de-4943-44c8-8354-933d739296cf"
      },
      "execution_count": 28,
      "outputs": [
        {
          "output_type": "execute_result",
          "data": {
            "text/plain": [
              "array([0.12038356, 0.40370142, 0.87770263, ..., 0.51890983, 0.69066016,\n",
              "       0.25532738])"
            ]
          },
          "metadata": {},
          "execution_count": 28
        }
      ]
    },
    {
      "cell_type": "code",
      "source": [
        "plt.hist(r1, edgecolor=\"k\")"
      ],
      "metadata": {
        "colab": {
          "base_uri": "https://localhost:8080/",
          "height": 367
        },
        "id": "0tsIPWLmDx04",
        "outputId": "01e1f953-5ed4-4037-9d33-39818e5b829d"
      },
      "execution_count": 29,
      "outputs": [
        {
          "output_type": "execute_result",
          "data": {
            "text/plain": [
              "(array([10145.,  9834., 10045.,  9864.,  9994., 10038.,  9957., 10140.,\n",
              "         9952., 10031.]),\n",
              " array([2.37510228e-06, 1.00000054e-01, 1.99997734e-01, 2.99995413e-01,\n",
              "        3.99993093e-01, 4.99990772e-01, 5.99988451e-01, 6.99986131e-01,\n",
              "        7.99983810e-01, 8.99981490e-01, 9.99979169e-01]),\n",
              " <BarContainer object of 10 artists>)"
            ]
          },
          "metadata": {},
          "execution_count": 29
        },
        {
          "output_type": "display_data",
          "data": {
            "text/plain": [
              "<Figure size 432x288 with 1 Axes>"
            ],
            "image/png": "[encoded data removed]"
          },
          "metadata": {
            "needs_background": "light"
          }
        }
      ]
    },
    {
      "cell_type": "code",
      "source": [
        "tsaplots.plot_acf(r1, lags=200,fft=False,zero=False,title='Autocorrelação')"
      ],
      "metadata": {
        "colab": {
          "base_uri": "https://localhost:8080/",
          "height": 545
        },
        "id": "55ESjj3SE5eF",
        "outputId": "04404d9e-f019-4353-df08-43a8e7488a34"
      },
      "execution_count": 33,
      "outputs": [
        {
          "output_type": "execute_result",
          "data": {
            "text/plain": [
              "<Figure size 432x288 with 1 Axes>"
            ],
            "image/png": "[encoded data removed]"
          },
          "metadata": {},
          "execution_count": 33
        },
        {
          "output_type": "display_data",
          "data": {
            "text/plain": [
              "<Figure size 432x288 with 1 Axes>"
            ],
            "image/png": "[encoded data removed]"
          },
          "metadata": {
            "needs_background": "light"
          }
        }
      ]
    }
  ]
}